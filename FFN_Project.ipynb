{
 "cells": [
  {
   "cell_type": "code",
   "execution_count": 69,
   "metadata": {},
   "outputs": [],
   "source": [
    "import pandas as pd\n",
    "import sqlite3\n",
    "import numpy as np\n",
    "import matplotlib.pyplot as plt\n",
    "import seaborn as sn"
   ]
  },
  {
   "cell_type": "code",
   "execution_count": 2,
   "metadata": {},
   "outputs": [],
   "source": [
    "accounts_df = pd.read_excel('accounts.xlsx')\n",
    "clients_df = pd.read_excel('clients.xlsx')"
   ]
  },
  {
   "cell_type": "code",
   "execution_count": 5,
   "metadata": {},
   "outputs": [],
   "source": [
    "# Create database and tables\n",
    "\n",
    "conn = sqlite3.connect('debtcasestudydb.db')\n",
    "c = conn.cursor()\n",
    "\n",
    "c.execute(\"\"\"CREATE TABLE account([clientid] TEXT, [account] INTEGER, [currentcreditor] TEXT, [originalcreditor] TEXT, \n",
    "        [beginningbalance] FLOAT, [settledflag] INTEGER, [settlementamount] FLOAT)\"\"\")\n",
    "\n",
    "c.execute(\"\"\"CREATE TABLE client([clientid] TEXT, [subscriptionproduct] INTEGER, [programstartdate] DATE, \n",
    "        [dateclosed] DATE, [status] TEXT, [clientstate] TEXT, [monthlyincome] FLOAT, [welcomecallcompletedate] DATE)\n",
    "        \"\"\")\n",
    "\n",
    "conn.commit()\n",
    "\n",
    "accounts_df.to_sql('account', conn, if_exists='replace',index=False)\n",
    "clients_df.to_sql('client', conn, if_exists='replace', index=False)"
   ]
  },
  {
   "cell_type": "code",
   "execution_count": 3,
   "metadata": {},
   "outputs": [],
   "source": [
    "from sqlalchemy import create_engine\n",
    "engine = create_engine('sqlite:///debtcasestudydb.db')\n",
    "conn = engine.connect()"
   ]
  },
  {
   "cell_type": "code",
   "execution_count": 33,
   "metadata": {},
   "outputs": [
    {
     "data": {
      "text/html": [
       "<div>\n",
       "<style scoped>\n",
       "    .dataframe tbody tr th:only-of-type {\n",
       "        vertical-align: middle;\n",
       "    }\n",
       "\n",
       "    .dataframe tbody tr th {\n",
       "        vertical-align: top;\n",
       "    }\n",
       "\n",
       "    .dataframe thead th {\n",
       "        text-align: right;\n",
       "    }\n",
       "</style>\n",
       "<table border=\"1\" class=\"dataframe\">\n",
       "  <thead>\n",
       "    <tr style=\"text-align: right;\">\n",
       "      <th></th>\n",
       "      <th>Debt_Difference</th>\n",
       "    </tr>\n",
       "  </thead>\n",
       "  <tbody>\n",
       "    <tr>\n",
       "      <th>0</th>\n",
       "      <td>2165.990894</td>\n",
       "    </tr>\n",
       "  </tbody>\n",
       "</table>\n",
       "</div>"
      ],
      "text/plain": [
       "   Debt_Difference\n",
       "0      2165.990894"
      ]
     },
     "execution_count": 33,
     "metadata": {},
     "output_type": "execute_result"
    }
   ],
   "source": [
    "#Determine difference in original debt vs settled debt for non subscribed clients\n",
    "\n",
    "query = pd.read_sql(\"\"\"\n",
    "WITH CTE AS \n",
    "(SELECT a.ClientID, BeginningBalance-SettlementAmount AS Difference\n",
    "FROM account a\n",
    "INNER JOIN client c ON a.ClientID = c.ClientID\n",
    "WHERE SubscriptionProduct = 0 AND SettledFlag = 1)\n",
    "\n",
    "SELECT AVG(Difference) AS Debt_Difference FROM CTE\n",
    "\"\"\", conn)\n",
    "query"
   ]
  },
  {
   "cell_type": "code",
   "execution_count": 18,
   "metadata": {},
   "outputs": [
    {
     "data": {
      "text/html": [
       "<div>\n",
       "<style scoped>\n",
       "    .dataframe tbody tr th:only-of-type {\n",
       "        vertical-align: middle;\n",
       "    }\n",
       "\n",
       "    .dataframe tbody tr th {\n",
       "        vertical-align: top;\n",
       "    }\n",
       "\n",
       "    .dataframe thead th {\n",
       "        text-align: right;\n",
       "    }\n",
       "</style>\n",
       "<table border=\"1\" class=\"dataframe\">\n",
       "  <thead>\n",
       "    <tr style=\"text-align: right;\">\n",
       "      <th></th>\n",
       "      <th>Debt_Difference</th>\n",
       "    </tr>\n",
       "  </thead>\n",
       "  <tbody>\n",
       "    <tr>\n",
       "      <th>0</th>\n",
       "      <td>2005.018239</td>\n",
       "    </tr>\n",
       "  </tbody>\n",
       "</table>\n",
       "</div>"
      ],
      "text/plain": [
       "   Debt_Difference\n",
       "0      2005.018239"
      ]
     },
     "execution_count": 18,
     "metadata": {},
     "output_type": "execute_result"
    }
   ],
   "source": [
    "#Determine difference in original debt vs settled debt for subscribed clients\n",
    "\n",
    "query = pd.read_sql(\"\"\"\n",
    "WITH CTE AS \n",
    "(SELECT a.ClientID, BeginningBalance-SettlementAmount AS Difference\n",
    "FROM account a\n",
    "INNER JOIN client c ON a.ClientID = c.ClientID\n",
    "WHERE SubscriptionProduct = 1 AND SettledFlag = 1)\n",
    "\n",
    "SELECT AVG(Difference) AS Debt_Difference FROM CTE\n",
    "\"\"\", conn)\n",
    "query"
   ]
  },
  {
   "cell_type": "code",
   "execution_count": 21,
   "metadata": {
    "scrolled": true
   },
   "outputs": [
    {
     "data": {
      "text/html": [
       "<div>\n",
       "<style scoped>\n",
       "    .dataframe tbody tr th:only-of-type {\n",
       "        vertical-align: middle;\n",
       "    }\n",
       "\n",
       "    .dataframe tbody tr th {\n",
       "        vertical-align: top;\n",
       "    }\n",
       "\n",
       "    .dataframe thead th {\n",
       "        text-align: right;\n",
       "    }\n",
       "</style>\n",
       "<table border=\"1\" class=\"dataframe\">\n",
       "  <thead>\n",
       "    <tr style=\"text-align: right;\">\n",
       "      <th></th>\n",
       "      <th>Monthy_Duration</th>\n",
       "    </tr>\n",
       "  </thead>\n",
       "  <tbody>\n",
       "    <tr>\n",
       "      <th>0</th>\n",
       "      <td>3.361868</td>\n",
       "    </tr>\n",
       "  </tbody>\n",
       "</table>\n",
       "</div>"
      ],
      "text/plain": [
       "   Monthy_Duration\n",
       "0         3.361868"
      ]
     },
     "execution_count": 21,
     "metadata": {},
     "output_type": "execute_result"
    }
   ],
   "source": [
    "#Determine monthly duration of nonsubscribed clients \n",
    "#The julianday function is used in SQLite to determine the number of days between two dates\n",
    "#Convert days to months by multiplying by .0328767\n",
    "\n",
    "query = pd.read_sql(\"\"\"\n",
    "SELECT AVG(Monthly_Duration) AS Monthy_Duration\n",
    "FROM\n",
    "(SELECT ClientID, ROUND((julianday(DateClosed)-julianday(DATE(ProgramStartDate)))*.0328767,1) AS Monthly_Duration\n",
    "FROM client\n",
    "WHERE Status IN ('Terminated') AND SubscriptionProduct = 0)\n",
    "\"\"\", conn)\n",
    "query"
   ]
  },
  {
   "cell_type": "code",
   "execution_count": 28,
   "metadata": {},
   "outputs": [
    {
     "data": {
      "text/html": [
       "<div>\n",
       "<style scoped>\n",
       "    .dataframe tbody tr th:only-of-type {\n",
       "        vertical-align: middle;\n",
       "    }\n",
       "\n",
       "    .dataframe tbody tr th {\n",
       "        vertical-align: top;\n",
       "    }\n",
       "\n",
       "    .dataframe thead th {\n",
       "        text-align: right;\n",
       "    }\n",
       "</style>\n",
       "<table border=\"1\" class=\"dataframe\">\n",
       "  <thead>\n",
       "    <tr style=\"text-align: right;\">\n",
       "      <th></th>\n",
       "      <th>Daily_Duration</th>\n",
       "    </tr>\n",
       "  </thead>\n",
       "  <tbody>\n",
       "    <tr>\n",
       "      <th>0</th>\n",
       "      <td>102.226585</td>\n",
       "    </tr>\n",
       "  </tbody>\n",
       "</table>\n",
       "</div>"
      ],
      "text/plain": [
       "   Daily_Duration\n",
       "0      102.226585"
      ]
     },
     "execution_count": 28,
     "metadata": {},
     "output_type": "execute_result"
    }
   ],
   "source": [
    "#Daily Duration\n",
    "\n",
    "query = pd.read_sql(\"\"\"\n",
    "SELECT AVG(Daily_Duration) AS Daily_Duration\n",
    "FROM \n",
    "(SELECT(julianday(DateClosed)-julianday(DATE(ProgramStartDate))) AS Daily_Duration\n",
    "FROM client\n",
    "WHERE Status in ('Terminated') AND SubscriptionProduct = 0)\n",
    "\"\"\", conn)\n",
    "query"
   ]
  },
  {
   "cell_type": "code",
   "execution_count": 54,
   "metadata": {},
   "outputs": [
    {
     "data": {
      "text/html": [
       "<div>\n",
       "<style scoped>\n",
       "    .dataframe tbody tr th:only-of-type {\n",
       "        vertical-align: middle;\n",
       "    }\n",
       "\n",
       "    .dataframe tbody tr th {\n",
       "        vertical-align: top;\n",
       "    }\n",
       "\n",
       "    .dataframe thead th {\n",
       "        text-align: right;\n",
       "    }\n",
       "</style>\n",
       "<table border=\"1\" class=\"dataframe\">\n",
       "  <thead>\n",
       "    <tr style=\"text-align: right;\">\n",
       "      <th></th>\n",
       "      <th>Monthly_Duration</th>\n",
       "    </tr>\n",
       "  </thead>\n",
       "  <tbody>\n",
       "    <tr>\n",
       "      <th>0</th>\n",
       "      <td>3.904135</td>\n",
       "    </tr>\n",
       "  </tbody>\n",
       "</table>\n",
       "</div>"
      ],
      "text/plain": [
       "   Monthly_Duration\n",
       "0          3.904135"
      ]
     },
     "execution_count": 54,
     "metadata": {},
     "output_type": "execute_result"
    }
   ],
   "source": [
    "#Determine monthly duration of subscribed clients \n",
    "\n",
    "query = pd.read_sql(\"\"\"\n",
    "SELECT AVG(Monthly_Duration) AS Monthly_Duration\n",
    "FROM\n",
    "(SELECT ClientID, ROUND((julianday(DateClosed)-julianday(DATE(ProgramStartDate)))*.0328767,1) AS Monthly_Duration\n",
    "FROM client\n",
    "WHERE Status IN ('Terminated') AND SubscriptionProduct = 1)\n",
    "\"\"\", conn)\n",
    "query"
   ]
  },
  {
   "cell_type": "code",
   "execution_count": 68,
   "metadata": {},
   "outputs": [
    {
     "data": {
      "text/html": [
       "<div>\n",
       "<style scoped>\n",
       "    .dataframe tbody tr th:only-of-type {\n",
       "        vertical-align: middle;\n",
       "    }\n",
       "\n",
       "    .dataframe tbody tr th {\n",
       "        vertical-align: top;\n",
       "    }\n",
       "\n",
       "    .dataframe thead th {\n",
       "        text-align: right;\n",
       "    }\n",
       "</style>\n",
       "<table border=\"1\" class=\"dataframe\">\n",
       "  <thead>\n",
       "    <tr style=\"text-align: right;\">\n",
       "      <th></th>\n",
       "      <th>Avg_Monthly_Duration_HNW</th>\n",
       "    </tr>\n",
       "  </thead>\n",
       "  <tbody>\n",
       "    <tr>\n",
       "      <th>0</th>\n",
       "      <td>3.085331</td>\n",
       "    </tr>\n",
       "  </tbody>\n",
       "</table>\n",
       "</div>"
      ],
      "text/plain": [
       "   Avg_Monthly_Duration_HNW\n",
       "0                  3.085331"
      ]
     },
     "execution_count": 68,
     "metadata": {},
     "output_type": "execute_result"
    }
   ],
   "source": [
    "#Monthly duration of subscribed vs. nonsubscribed high debt clients (>15000)\n",
    "\n",
    "query = pd.read_sql(\"\"\"\n",
    "SELECT AVG(Monthly_Duration) AS Avg_Monthly_Duration_HNW\n",
    "FROM\n",
    "(SELECT c.ClientID, ROUND((julianday(DateClosed)-julianday(DATE(ProgramStartDate)))*.0328767,1) AS Monthly_Duration\n",
    "FROM client c\n",
    "INNER JOIN account a ON c.ClientID = a.ClientID\n",
    "WHERE Status IN ('Terminated') AND SubscriptionProduct = 0 AND BeginningBalance > 15000.5)\n",
    "\"\"\", conn)\n",
    "query"
   ]
  },
  {
   "cell_type": "code",
   "execution_count": 66,
   "metadata": {},
   "outputs": [
    {
     "data": {
      "text/html": [
       "<div>\n",
       "<style scoped>\n",
       "    .dataframe tbody tr th:only-of-type {\n",
       "        vertical-align: middle;\n",
       "    }\n",
       "\n",
       "    .dataframe tbody tr th {\n",
       "        vertical-align: top;\n",
       "    }\n",
       "\n",
       "    .dataframe thead th {\n",
       "        text-align: right;\n",
       "    }\n",
       "</style>\n",
       "<table border=\"1\" class=\"dataframe\">\n",
       "  <thead>\n",
       "    <tr style=\"text-align: right;\">\n",
       "      <th></th>\n",
       "      <th>Avg_Daily_Duration_HNW</th>\n",
       "    </tr>\n",
       "  </thead>\n",
       "  <tbody>\n",
       "    <tr>\n",
       "      <th>0</th>\n",
       "      <td>102.898017</td>\n",
       "    </tr>\n",
       "  </tbody>\n",
       "</table>\n",
       "</div>"
      ],
      "text/plain": [
       "   Avg_Daily_Duration_HNW\n",
       "0              102.898017"
      ]
     },
     "execution_count": 66,
     "metadata": {},
     "output_type": "execute_result"
    }
   ],
   "source": [
    "#Daily duration of subscribed vs. nonsubscribed high debt clients (>15000)\n",
    "\n",
    "query = pd.read_sql(\"\"\"\n",
    "SELECT AVG(Daily_Duration) AS Avg_Daily_Duration_HNW\n",
    "FROM\n",
    "(SELECT c.ClientID, julianday(DateClosed)-julianday(DATE(ProgramStartDate)) AS Daily_Duration\n",
    "FROM client c\n",
    "INNER JOIN account a ON c.ClientID = a.ClientID\n",
    "WHERE Status IN ('Terminated') AND SubscriptionProduct = 1 AND BeginningBalance > 15000.5)\n",
    "\"\"\", conn)\n",
    "query"
   ]
  },
  {
   "cell_type": "code",
   "execution_count": 6,
   "metadata": {},
   "outputs": [
    {
     "data": {
      "text/html": [
       "<div>\n",
       "<style scoped>\n",
       "    .dataframe tbody tr th:only-of-type {\n",
       "        vertical-align: middle;\n",
       "    }\n",
       "\n",
       "    .dataframe tbody tr th {\n",
       "        vertical-align: top;\n",
       "    }\n",
       "\n",
       "    .dataframe thead th {\n",
       "        text-align: right;\n",
       "    }\n",
       "</style>\n",
       "<table border=\"1\" class=\"dataframe\">\n",
       "  <thead>\n",
       "    <tr style=\"text-align: right;\">\n",
       "      <th></th>\n",
       "      <th>Settled_Accounts</th>\n",
       "      <th>SettledFlag</th>\n",
       "      <th>SubscriptionProduct</th>\n",
       "    </tr>\n",
       "  </thead>\n",
       "  <tbody>\n",
       "    <tr>\n",
       "      <th>0</th>\n",
       "      <td>9410</td>\n",
       "      <td>1</td>\n",
       "      <td>0</td>\n",
       "    </tr>\n",
       "  </tbody>\n",
       "</table>\n",
       "</div>"
      ],
      "text/plain": [
       "   Settled_Accounts  SettledFlag  SubscriptionProduct\n",
       "0              9410            1                    0"
      ]
     },
     "execution_count": 6,
     "metadata": {},
     "output_type": "execute_result"
    }
   ],
   "source": [
    "#Number of settled accounts (subscribed vs non subscribed)\n",
    "\n",
    "query = pd.read_sql(\"\"\"\n",
    "SELECT COUNT(a.account) AS Settled_Accounts, SettledFlag, SubscriptionProduct\n",
    "FROM client c JOIN account a\n",
    "ON c.ClientID = a.ClientID\n",
    "WHERE SubscriptionProduct = 0 AND SettledFlag = 1\n",
    "GROUP BY SettledFlag\n",
    "\"\"\", conn)\n",
    "query"
   ]
  },
  {
   "cell_type": "code",
   "execution_count": 65,
   "metadata": {},
   "outputs": [],
   "source": [
    "#Determine number of clients in each original debt bin/bucket by subscription flag\n",
    "\n",
    "query = pd.read_sql(\"\"\"\n",
    "SELECT COUNT(a.ClientID) as Clients, CASE \n",
    "    WHEN BeginningBalance BETWEEN 0.00 AND 500.00 THEN \"0 to 500\"\n",
    "    WHEN BeginningBalance BETWEEN 500.01 AND 1000.00 THEN \"500 to 1000\"\n",
    "    WHEN BeginningBalance BETWEEN 1000.01 AND 5000.00 THEN \"1000 to 5000\"\n",
    "    WHEN BeginningBalance BETWEEN 5000.01 AND 10000.00 THEN \"5000 to 10,000\"\n",
    "    WHEN BeginningBalance BETWEEN 10000.01 AND 15000.00 THEN \"10,000 to 15,000\"\n",
    "    ELSE \"Over 15,000\"\n",
    "    END AS 'DebtRange', SubscriptionProduct\n",
    "FROM account a\n",
    "INNER JOIN client c ON a.ClientID = c.ClientID\n",
    "WHERE SubscriptionProduct = 0\n",
    "GROUP BY DebtRange\n",
    "UNION\n",
    "SELECT COUNT(a.ClientID) Clients, CASE \n",
    "    WHEN BeginningBalance BETWEEN 0.01 AND 500.00 THEN \"0 to 500\"\n",
    "    WHEN BeginningBalance BETWEEN 500.01 AND 1000.00 THEN \"500 to 1000\"\n",
    "    WHEN BeginningBalance BETWEEN 1000.01 AND 5000.00 THEN \"1000 to 5000\"\n",
    "    WHEN BeginningBalance BETWEEN 5000.01 AND 10000.00 THEN \"5000 to 10,000\"\n",
    "    WHEN BeginningBalance BETWEEN 10000.01 AND 15000.00 THEN \"10,000 to 15,000\"\n",
    "    ELSE \"Over 15,000\"\n",
    "    END AS 'DebtRange', SubscriptionProduct\n",
    "FROM account a\n",
    "INNER JOIN client c ON a.ClientID = c.ClientID\n",
    "WHERE SubscriptionProduct = 1\n",
    "GROUP BY DebtRange\n",
    "\"\"\", conn)\n",
    "query.to_excel('debtranges.xlsx')"
   ]
  },
  {
   "cell_type": "code",
   "execution_count": 23,
   "metadata": {},
   "outputs": [
    {
     "data": {
      "text/html": [
       "<div>\n",
       "<style scoped>\n",
       "    .dataframe tbody tr th:only-of-type {\n",
       "        vertical-align: middle;\n",
       "    }\n",
       "\n",
       "    .dataframe tbody tr th {\n",
       "        vertical-align: top;\n",
       "    }\n",
       "\n",
       "    .dataframe thead th {\n",
       "        text-align: right;\n",
       "    }\n",
       "</style>\n",
       "<table border=\"1\" class=\"dataframe\">\n",
       "  <thead>\n",
       "    <tr style=\"text-align: right;\">\n",
       "      <th></th>\n",
       "      <th>ClientID</th>\n",
       "      <th>SubscriptionProduct</th>\n",
       "      <th>WelcomeCallStatus</th>\n",
       "      <th>ClientStatus</th>\n",
       "      <th>MonthlyIncome</th>\n",
       "      <th>TotalBeginningDebt</th>\n",
       "    </tr>\n",
       "  </thead>\n",
       "  <tbody>\n",
       "    <tr>\n",
       "      <th>0</th>\n",
       "      <td>ACT2550750</td>\n",
       "      <td>1</td>\n",
       "      <td>1</td>\n",
       "      <td>2</td>\n",
       "      <td>3515.0</td>\n",
       "      <td>6510.35</td>\n",
       "    </tr>\n",
       "    <tr>\n",
       "      <th>1</th>\n",
       "      <td>ACT2550900</td>\n",
       "      <td>0</td>\n",
       "      <td>1</td>\n",
       "      <td>3</td>\n",
       "      <td>3562.5</td>\n",
       "      <td>18662.75</td>\n",
       "    </tr>\n",
       "    <tr>\n",
       "      <th>2</th>\n",
       "      <td>ACT2553898</td>\n",
       "      <td>1</td>\n",
       "      <td>1</td>\n",
       "      <td>3</td>\n",
       "      <td>4539.1</td>\n",
       "      <td>8463.55</td>\n",
       "    </tr>\n",
       "    <tr>\n",
       "      <th>3</th>\n",
       "      <td>ACT2554159</td>\n",
       "      <td>1</td>\n",
       "      <td>1</td>\n",
       "      <td>3</td>\n",
       "      <td>2850.0</td>\n",
       "      <td>2275.25</td>\n",
       "    </tr>\n",
       "    <tr>\n",
       "      <th>4</th>\n",
       "      <td>ACT2555427</td>\n",
       "      <td>0</td>\n",
       "      <td>1</td>\n",
       "      <td>1</td>\n",
       "      <td>4767.1</td>\n",
       "      <td>32063.45</td>\n",
       "    </tr>\n",
       "  </tbody>\n",
       "</table>\n",
       "</div>"
      ],
      "text/plain": [
       "     ClientID  SubscriptionProduct WelcomeCallStatus ClientStatus  \\\n",
       "0  ACT2550750                    1                 1            2   \n",
       "1  ACT2550900                    0                 1            3   \n",
       "2  ACT2553898                    1                 1            3   \n",
       "3  ACT2554159                    1                 1            3   \n",
       "4  ACT2555427                    0                 1            1   \n",
       "\n",
       "   MonthlyIncome  TotalBeginningDebt  \n",
       "0         3515.0             6510.35  \n",
       "1         3562.5            18662.75  \n",
       "2         4539.1             8463.55  \n",
       "3         2850.0             2275.25  \n",
       "4         4767.1            32063.45  "
      ]
     },
     "execution_count": 23,
     "metadata": {},
     "output_type": "execute_result"
    }
   ],
   "source": [
    "#Client Churn Model\n",
    "\n",
    "from sklearn import preprocessing\n",
    "from sklearn.model_selection import train_test_split\n",
    "from sklearn.neighbors import KNeighborsClassifier\n",
    "from sklearn.metrics import classification_report\n",
    "from sklearn import metrics \n",
    "\n",
    "df = pd.read_sql(\"\"\"\n",
    "SELECT c.ClientID, SubscriptionProduct, CASE\n",
    "    WHEN WelcomeCallCompleteDate NOT IN ('1/0/1900') THEN '1'\n",
    "    ELSE '0' END AS WelcomeCallStatus,\n",
    "    CASE \n",
    "    WHEN Status = 'Client' THEN '0'\n",
    "    WHEN Status = 'Completed' THEN '1'\n",
    "    WHEN Status = 'Rescission' THEN '2'\n",
    "    WHEN Status = 'Terminated' THEN '3'\n",
    "    END AS ClientStatus, \n",
    "    MonthlyIncome, SUM(BeginningBalance) AS TotalBeginningDebt\n",
    "FROM client c INNER JOIN account a ON c.ClientID = a.ClientID\n",
    "WHERE ClientStatus NOT IN ('0')\n",
    "GROUP BY c.ClientID\n",
    "\"\"\", conn)\n",
    "\n",
    "df.head()"
   ]
  },
  {
   "cell_type": "code",
   "execution_count": 27,
   "metadata": {},
   "outputs": [
    {
     "name": "stdout",
     "output_type": "stream",
     "text": [
      "[[  0   4  49]\n",
      " [  0  20 188]\n",
      " [  2  43 548]]\n",
      "_______________\n",
      "Accuracy Score: \n",
      "0.6651053864168618\n",
      "_______________\n",
      "Classification Report: \n",
      "              precision    recall  f1-score   support\n",
      "\n",
      "           1       0.00      0.00      0.00        53\n",
      "           2       0.30      0.10      0.15       208\n",
      "           3       0.70      0.92      0.80       593\n",
      "\n",
      "   micro avg       0.67      0.67      0.67       854\n",
      "   macro avg       0.33      0.34      0.31       854\n",
      "weighted avg       0.56      0.67      0.59       854\n",
      "\n"
     ]
    }
   ],
   "source": [
    "y = df['ClientStatus']\n",
    "X = df[['SubscriptionProduct', 'WelcomeCallStatus', 'MonthlyIncome', 'TotalBeginningDebt']]\n",
    "X_train, X_test, y_train, y_test = train_test_split(X, y, test_size = 0.1)\n",
    "\n",
    "model = KNeighborsClassifier(n_neighbors=10)\n",
    "model.fit(X_train, y_train)\n",
    "\n",
    "y_pred = model.predict(X_test)\n",
    "cm = metrics.confusion_matrix(y_test, y_pred)\n",
    "print(cm)\n",
    "print(\"_______________\")\n",
    "print(\"Accuracy Score: \")\n",
    "print(metrics.accuracy_score(y_test, y_pred))\n",
    "print(\"_______________\")\n",
    "print(\"Classification Report: \")\n",
    "print(classification_report(y_test, y_pred))"
   ]
  },
  {
   "cell_type": "code",
   "execution_count": 48,
   "metadata": {},
   "outputs": [
    {
     "name": "stdout",
     "output_type": "stream",
     "text": [
      "<class 'numpy.ndarray'>\n"
     ]
    },
    {
     "data": {
      "image/png": "[encoded data removed]",
      "text/plain": [
       "<Figure size 576x576 with 1 Axes>"
      ]
     },
     "metadata": {
      "needs_background": "light"
     },
     "output_type": "display_data"
    }
   ],
   "source": [
    "print(type(cm))\n",
    "df_cm = pd.DataFrame(cm, index = [i for i in \"123\"],\n",
    "                    columns = [i for i in '123'])\n",
    "\n",
    "plt.figure(figsize = (8, 8))\n",
    "sn.heatmap(df_cm, annot=True, cbar=False, annot_kws={'size': 30}, fmt='.0f')\n",
    "plt.ylabel('Actual Label')\n",
    "plt.xlabel('Predicted Label')\n",
    "plt.show()"
   ]
  },
  {
   "cell_type": "code",
   "execution_count": null,
   "metadata": {},
   "outputs": [],
   "source": []
  },
  {
   "cell_type": "code",
   "execution_count": null,
   "metadata": {},
   "outputs": [],
   "source": []
  }
 ],
 "metadata": {
  "kernelspec": {
   "display_name": "Python 3",
   "language": "python",
   "name": "python3"
  },
  "language_info": {
   "codemirror_mode": {
    "name": "ipython",
    "version": 3
   },
   "file_extension": ".py",
   "mimetype": "text/x-python",
   "name": "python",
   "nbconvert_exporter": "python",
   "pygments_lexer": "ipython3",
   "version": "3.6.7"
  }
 },
 "nbformat": 4,
 "nbformat_minor": 2
}
